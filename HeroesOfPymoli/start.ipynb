{
 "cells": [
  {
   "cell_type": "markdown",
   "metadata": {},
   "source": [
    "### Note\n",
    "* Instructions have been included for each segment. You do not have to follow them exactly, but they are included to help you think through the steps."
   ]
  },
  {
   "cell_type": "code",
   "execution_count": 10,
   "metadata": {},
   "outputs": [],
   "source": [
    "# Dependencies and Setup\n",
    "import pandas as pd\n",
    "\n",
    "# File to Load (Remember to Change These)\n",
    "file_to_load = \"Resources/purchase_data.csv\"\n",
    "\n",
    "# Read Purchasing File and store into Pandas data frame\n",
    "purchase_data = pd.read_csv(file_to_load)"
   ]
  },
  {
   "cell_type": "markdown",
   "metadata": {},
   "source": [
    "## Player Count"
   ]
  },
  {
   "cell_type": "markdown",
   "metadata": {},
   "source": [
    "* Display the total number of players\n"
   ]
  },
  {
   "cell_type": "code",
   "execution_count": 11,
   "metadata": {},
   "outputs": [
    {
     "data": {
      "text/html": [
       "<div>\n",
       "<style scoped>\n",
       "    .dataframe tbody tr th:only-of-type {\n",
       "        vertical-align: middle;\n",
       "    }\n",
       "\n",
       "    .dataframe tbody tr th {\n",
       "        vertical-align: top;\n",
       "    }\n",
       "\n",
       "    .dataframe thead th {\n",
       "        text-align: right;\n",
       "    }\n",
       "</style>\n",
       "<table border=\"1\" class=\"dataframe\">\n",
       "  <thead>\n",
       "    <tr style=\"text-align: right;\">\n",
       "      <th></th>\n",
       "      <th>Total Players</th>\n",
       "    </tr>\n",
       "  </thead>\n",
       "  <tbody>\n",
       "    <tr>\n",
       "      <th>0</th>\n",
       "      <td>576</td>\n",
       "    </tr>\n",
       "  </tbody>\n",
       "</table>\n",
       "</div>"
      ],
      "text/plain": [
       "   Total Players\n",
       "0            576"
      ]
     },
     "execution_count": 11,
     "metadata": {},
     "output_type": "execute_result"
    }
   ],
   "source": [
    "pd.DataFrame({'Total Players':[purchase_data.SN.nunique()]})"
   ]
  },
  {
   "cell_type": "markdown",
   "metadata": {},
   "source": [
    "## Purchasing Analysis (Total)"
   ]
  },
  {
   "cell_type": "markdown",
   "metadata": {},
   "source": [
    "* Run basic calculations to obtain number of unique items, average price, etc.\n",
    "\n",
    "\n",
    "* Create a summary data frame to hold the results\n",
    "\n",
    "\n",
    "* Optional: give the displayed data cleaner formatting\n",
    "\n",
    "\n",
    "* Display the summary data frame\n"
   ]
  },
  {
   "cell_type": "code",
   "execution_count": 12,
   "metadata": {},
   "outputs": [],
   "source": [
    "pd.options.display.float_format = '${:,.2f}'.format"
   ]
  },
  {
   "cell_type": "code",
   "execution_count": 13,
   "metadata": {},
   "outputs": [
    {
     "data": {
      "text/html": [
       "<div>\n",
       "<style scoped>\n",
       "    .dataframe tbody tr th:only-of-type {\n",
       "        vertical-align: middle;\n",
       "    }\n",
       "\n",
       "    .dataframe tbody tr th {\n",
       "        vertical-align: top;\n",
       "    }\n",
       "\n",
       "    .dataframe thead th {\n",
       "        text-align: right;\n",
       "    }\n",
       "</style>\n",
       "<table border=\"1\" class=\"dataframe\">\n",
       "  <thead>\n",
       "    <tr style=\"text-align: right;\">\n",
       "      <th></th>\n",
       "      <th>Purchase ID</th>\n",
       "      <th>SN</th>\n",
       "      <th>Age</th>\n",
       "      <th>Gender</th>\n",
       "      <th>Item ID</th>\n",
       "      <th>Item Name</th>\n",
       "      <th>Price</th>\n",
       "    </tr>\n",
       "  </thead>\n",
       "  <tbody>\n",
       "    <tr>\n",
       "      <th>0</th>\n",
       "      <td>0</td>\n",
       "      <td>Lisim78</td>\n",
       "      <td>20</td>\n",
       "      <td>Male</td>\n",
       "      <td>108</td>\n",
       "      <td>Extraction, Quickblade Of Trembling Hands</td>\n",
       "      <td>$3.53</td>\n",
       "    </tr>\n",
       "    <tr>\n",
       "      <th>1</th>\n",
       "      <td>1</td>\n",
       "      <td>Lisovynya38</td>\n",
       "      <td>40</td>\n",
       "      <td>Male</td>\n",
       "      <td>143</td>\n",
       "      <td>Frenzied Scimitar</td>\n",
       "      <td>$1.56</td>\n",
       "    </tr>\n",
       "    <tr>\n",
       "      <th>2</th>\n",
       "      <td>2</td>\n",
       "      <td>Ithergue48</td>\n",
       "      <td>24</td>\n",
       "      <td>Male</td>\n",
       "      <td>92</td>\n",
       "      <td>Final Critic</td>\n",
       "      <td>$4.88</td>\n",
       "    </tr>\n",
       "    <tr>\n",
       "      <th>3</th>\n",
       "      <td>3</td>\n",
       "      <td>Chamassasya86</td>\n",
       "      <td>24</td>\n",
       "      <td>Male</td>\n",
       "      <td>100</td>\n",
       "      <td>Blindscythe</td>\n",
       "      <td>$3.27</td>\n",
       "    </tr>\n",
       "    <tr>\n",
       "      <th>4</th>\n",
       "      <td>4</td>\n",
       "      <td>Iskosia90</td>\n",
       "      <td>23</td>\n",
       "      <td>Male</td>\n",
       "      <td>131</td>\n",
       "      <td>Fury</td>\n",
       "      <td>$1.44</td>\n",
       "    </tr>\n",
       "  </tbody>\n",
       "</table>\n",
       "</div>"
      ],
      "text/plain": [
       "   Purchase ID             SN  Age Gender  Item ID  \\\n",
       "0            0        Lisim78   20   Male      108   \n",
       "1            1    Lisovynya38   40   Male      143   \n",
       "2            2     Ithergue48   24   Male       92   \n",
       "3            3  Chamassasya86   24   Male      100   \n",
       "4            4      Iskosia90   23   Male      131   \n",
       "\n",
       "                                   Item Name  Price  \n",
       "0  Extraction, Quickblade Of Trembling Hands  $3.53  \n",
       "1                          Frenzied Scimitar  $1.56  \n",
       "2                               Final Critic  $4.88  \n",
       "3                                Blindscythe  $3.27  \n",
       "4                                       Fury  $1.44  "
      ]
     },
     "execution_count": 13,
     "metadata": {},
     "output_type": "execute_result"
    }
   ],
   "source": [
    "purchase_data.head()"
   ]
  },
  {
   "cell_type": "code",
   "execution_count": null,
   "metadata": {},
   "outputs": [],
   "source": []
  },
  {
   "cell_type": "code",
   "execution_count": 14,
   "metadata": {},
   "outputs": [
    {
     "data": {
      "text/html": [
       "<div>\n",
       "<style scoped>\n",
       "    .dataframe tbody tr th:only-of-type {\n",
       "        vertical-align: middle;\n",
       "    }\n",
       "\n",
       "    .dataframe tbody tr th {\n",
       "        vertical-align: top;\n",
       "    }\n",
       "\n",
       "    .dataframe thead th {\n",
       "        text-align: right;\n",
       "    }\n",
       "</style>\n",
       "<table border=\"1\" class=\"dataframe\">\n",
       "  <thead>\n",
       "    <tr style=\"text-align: right;\">\n",
       "      <th></th>\n",
       "      <th>Number of Unique Items</th>\n",
       "      <th>Average Price</th>\n",
       "      <th>Number of Purchases</th>\n",
       "      <th>Total Revenue</th>\n",
       "    </tr>\n",
       "  </thead>\n",
       "  <tbody>\n",
       "    <tr>\n",
       "      <th>0</th>\n",
       "      <td>179</td>\n",
       "      <td>$3.05</td>\n",
       "      <td>780</td>\n",
       "      <td>$2,379.77</td>\n",
       "    </tr>\n",
       "  </tbody>\n",
       "</table>\n",
       "</div>"
      ],
      "text/plain": [
       "   Number of Unique Items  Average Price  Number of Purchases  Total Revenue\n",
       "0                     179          $3.05                  780      $2,379.77"
      ]
     },
     "execution_count": 14,
     "metadata": {},
     "output_type": "execute_result"
    }
   ],
   "source": [
    "pd.DataFrame({'Number of Unique Items': [purchase_data['Item ID'].nunique()],\\\n",
    "              'Average Price':[purchase_data.Price.mean()],\\\n",
    "             'Number of Purchases':[purchase_data.Price.count()],\n",
    "             'Total Revenue':[purchase_data.Price.sum()]})"
   ]
  },
  {
   "cell_type": "markdown",
   "metadata": {},
   "source": [
    "## Gender Demographics"
   ]
  },
  {
   "cell_type": "markdown",
   "metadata": {},
   "source": [
    "* Percentage and Count of Male Players\n",
    "\n",
    "\n",
    "* Percentage and Count of Female Players\n",
    "\n",
    "\n",
    "* Percentage and Count of Other / Non-Disclosed\n",
    "\n",
    "\n"
   ]
  },
  {
   "cell_type": "code",
   "execution_count": 15,
   "metadata": {},
   "outputs": [
    {
     "data": {
      "text/html": [
       "<div>\n",
       "<style scoped>\n",
       "    .dataframe tbody tr th:only-of-type {\n",
       "        vertical-align: middle;\n",
       "    }\n",
       "\n",
       "    .dataframe tbody tr th {\n",
       "        vertical-align: top;\n",
       "    }\n",
       "\n",
       "    .dataframe thead th {\n",
       "        text-align: right;\n",
       "    }\n",
       "</style>\n",
       "<table border=\"1\" class=\"dataframe\">\n",
       "  <thead>\n",
       "    <tr style=\"text-align: right;\">\n",
       "      <th></th>\n",
       "      <th>Total Count</th>\n",
       "      <th>Percentage of Players</th>\n",
       "    </tr>\n",
       "    <tr>\n",
       "      <th>Gender</th>\n",
       "      <th></th>\n",
       "      <th></th>\n",
       "    </tr>\n",
       "  </thead>\n",
       "  <tbody>\n",
       "    <tr>\n",
       "      <th>Female</th>\n",
       "      <td>81</td>\n",
       "      <td>14.06%</td>\n",
       "    </tr>\n",
       "    <tr>\n",
       "      <th>Male</th>\n",
       "      <td>484</td>\n",
       "      <td>84.03%</td>\n",
       "    </tr>\n",
       "    <tr>\n",
       "      <th>Other / Non-Disclosed</th>\n",
       "      <td>11</td>\n",
       "      <td>1.91%</td>\n",
       "    </tr>\n",
       "  </tbody>\n",
       "</table>\n",
       "</div>"
      ],
      "text/plain": [
       "                       Total Count Percentage of Players\n",
       "Gender                                                  \n",
       "Female                          81                14.06%\n",
       "Male                           484                84.03%\n",
       "Other / Non-Disclosed           11                 1.91%"
      ]
     },
     "execution_count": 15,
     "metadata": {},
     "output_type": "execute_result"
    }
   ],
   "source": [
    "import pandas as pd\n",
    "\n",
    "\n",
    "# File to Load (Remember to Change These)\n",
    "file_to_upload = \"Resources/purchase_data.csv\"\n",
    "\n",
    "\n",
    "\n",
    "\n",
    "# Read Purchasing File and store into Pandas data frame\n",
    "df = pd.read_csv(file_to_upload)\n",
    "groupby_var= purchase_data.groupby(\"Gender\")\n",
    "count_var= groupby_var[\"SN\"].nunique()\n",
    "\n",
    "total_players=int(df[\"SN\"].nunique())\n",
    "percent_total=(count_var/total_players)\n",
    "\n",
    "\n",
    "gender_data=pd.DataFrame({'Total Count':count_var,'Percentage of Players':percent_total})\n",
    "gender_data[\"Percentage of Players\"] = gender_data[\"Percentage of Players\"].map(\"{:.2%}\".format)\n",
    "gender_data"
   ]
  },
  {
   "cell_type": "markdown",
   "metadata": {},
   "source": [
    "\n",
    "## Purchasing Analysis (Gender)"
   ]
  },
  {
   "cell_type": "markdown",
   "metadata": {},
   "source": [
    "* Run basic calculations to obtain purchase count, avg. purchase price, avg. purchase total per person etc. by gender\n",
    "\n",
    "\n",
    "\n",
    "\n",
    "* Create a summary data frame to hold the results\n",
    "\n",
    "\n",
    "* Optional: give the displayed data cleaner formatting\n",
    "\n",
    "\n",
    "* Display the summary data frame"
   ]
  },
  {
   "cell_type": "code",
   "execution_count": 16,
   "metadata": {},
   "outputs": [
    {
     "data": {
      "text/html": [
       "<style  type=\"text/css\" >\n",
       "</style><table id=\"T_f7a39d82_1b14_11eb_97aa_38f9d358ccca\" ><thead>    <tr>        <th class=\"blank level0\" ></th>        <th class=\"col_heading level0 col0\" >Purchase Count</th>        <th class=\"col_heading level0 col1\" >Average Purchase Price</th>        <th class=\"col_heading level0 col2\" >Average Purchase Value</th>        <th class=\"col_heading level0 col3\" >Avg Purchase Total per Person</th>    </tr>    <tr>        <th class=\"index_name level0\" >Gender</th>        <th class=\"blank\" ></th>        <th class=\"blank\" ></th>        <th class=\"blank\" ></th>        <th class=\"blank\" ></th>    </tr></thead><tbody>\n",
       "                <tr>\n",
       "                        <th id=\"T_f7a39d82_1b14_11eb_97aa_38f9d358cccalevel0_row0\" class=\"row_heading level0 row0\" >Female</th>\n",
       "                        <td id=\"T_f7a39d82_1b14_11eb_97aa_38f9d358cccarow0_col0\" class=\"data row0 col0\" >113</td>\n",
       "                        <td id=\"T_f7a39d82_1b14_11eb_97aa_38f9d358cccarow0_col1\" class=\"data row0 col1\" >$3.20</td>\n",
       "                        <td id=\"T_f7a39d82_1b14_11eb_97aa_38f9d358cccarow0_col2\" class=\"data row0 col2\" >$361.94</td>\n",
       "                        <td id=\"T_f7a39d82_1b14_11eb_97aa_38f9d358cccarow0_col3\" class=\"data row0 col3\" >$0.63</td>\n",
       "            </tr>\n",
       "            <tr>\n",
       "                        <th id=\"T_f7a39d82_1b14_11eb_97aa_38f9d358cccalevel0_row1\" class=\"row_heading level0 row1\" >Male</th>\n",
       "                        <td id=\"T_f7a39d82_1b14_11eb_97aa_38f9d358cccarow1_col0\" class=\"data row1 col0\" >652</td>\n",
       "                        <td id=\"T_f7a39d82_1b14_11eb_97aa_38f9d358cccarow1_col1\" class=\"data row1 col1\" >$3.02</td>\n",
       "                        <td id=\"T_f7a39d82_1b14_11eb_97aa_38f9d358cccarow1_col2\" class=\"data row1 col2\" >$1,967.64</td>\n",
       "                        <td id=\"T_f7a39d82_1b14_11eb_97aa_38f9d358cccarow1_col3\" class=\"data row1 col3\" >$3.42</td>\n",
       "            </tr>\n",
       "            <tr>\n",
       "                        <th id=\"T_f7a39d82_1b14_11eb_97aa_38f9d358cccalevel0_row2\" class=\"row_heading level0 row2\" >Other / Non-Disclosed</th>\n",
       "                        <td id=\"T_f7a39d82_1b14_11eb_97aa_38f9d358cccarow2_col0\" class=\"data row2 col0\" >15</td>\n",
       "                        <td id=\"T_f7a39d82_1b14_11eb_97aa_38f9d358cccarow2_col1\" class=\"data row2 col1\" >$3.35</td>\n",
       "                        <td id=\"T_f7a39d82_1b14_11eb_97aa_38f9d358cccarow2_col2\" class=\"data row2 col2\" >$50.19</td>\n",
       "                        <td id=\"T_f7a39d82_1b14_11eb_97aa_38f9d358cccarow2_col3\" class=\"data row2 col3\" >$0.09</td>\n",
       "            </tr>\n",
       "    </tbody></table>"
      ],
      "text/plain": [
       "<pandas.io.formats.style.Styler at 0x7f80abd02070>"
      ]
     },
     "execution_count": 16,
     "metadata": {},
     "output_type": "execute_result"
    }
   ],
   "source": [
    "df = pd.read_csv(file_to_upload)\n",
    "groupby_var= purchase_data.groupby(\"Gender\")\n",
    "\n",
    "\n",
    "purchase_count = groupby_var[\"Purchase ID\"].count()\n",
    "\n",
    "avg_purchase_price = groupby_var[\"Price\"].mean()\n",
    "\n",
    "avg_purchase_total = groupby_var[\"Price\"].sum()\n",
    "\n",
    "total_count_gender=int(df[\"SN\"].nunique())\n",
    "avg_purchase_per_person = avg_purchase_total/total_count_gender\n",
    "\n",
    "\n",
    "gender_data = pd.DataFrame({\"Purchase Count\": purchase_count, \n",
    "                                    \"Average Purchase Price\": avg_purchase_price,\n",
    "                                    \"Average Purchase Value\":avg_purchase_total,\n",
    "                                    \"Avg Purchase Total per Person\": avg_purchase_per_person})\n",
    "\n",
    "gender_data.index.name = \"Gender\"\n",
    "gender_data.style.format({\"Average Purchase Value\":\"${:,.2f}\",\n",
    "                                  \"Average Purchase Price\":\"${:,.2f}\",\n",
    "                                  \"Avg Purchase Total per Person\":\"${:,.2f}\"})\n"
   ]
  },
  {
   "cell_type": "markdown",
   "metadata": {},
   "source": []
  },
  {
   "cell_type": "markdown",
   "metadata": {},
   "source": [
    "## Age Demographics"
   ]
  },
  {
   "cell_type": "markdown",
   "metadata": {},
   "source": [
    "* Establish bins for ages\n",
    "\n",
    "\n",
    "* Categorize the existing players using the age bins. Hint: use pd.cut()\n",
    "\n",
    "\n",
    "* Calculate the numbers and percentages by age group\n",
    "\n",
    "\n",
    "* Create a summary data frame to hold the results\n",
    "\n",
    "\n",
    "* Optional: round the percentage column to two decimal points\n",
    "\n",
    "\n",
    "* Display Age Demographics Table\n"
   ]
  },
  {
   "cell_type": "code",
   "execution_count": 17,
   "metadata": {},
   "outputs": [
    {
     "data": {
      "text/html": [
       "<style  type=\"text/css\" >\n",
       "</style><table id=\"T_fb6a6298_1b14_11eb_97aa_38f9d358ccca\" ><thead>    <tr>        <th class=\"blank level0\" ></th>        <th class=\"col_heading level0 col0\" >Total Count</th>        <th class=\"col_heading level0 col1\" >Percent of Players</th>    </tr></thead><tbody>\n",
       "                <tr>\n",
       "                        <th id=\"T_fb6a6298_1b14_11eb_97aa_38f9d358cccalevel0_row0\" class=\"row_heading level0 row0\" ><10</th>\n",
       "                        <td id=\"T_fb6a6298_1b14_11eb_97aa_38f9d358cccarow0_col0\" class=\"data row0 col0\" >17</td>\n",
       "                        <td id=\"T_fb6a6298_1b14_11eb_97aa_38f9d358cccarow0_col1\" class=\"data row0 col1\" >2.95</td>\n",
       "            </tr>\n",
       "            <tr>\n",
       "                        <th id=\"T_fb6a6298_1b14_11eb_97aa_38f9d358cccalevel0_row1\" class=\"row_heading level0 row1\" >10-14</th>\n",
       "                        <td id=\"T_fb6a6298_1b14_11eb_97aa_38f9d358cccarow1_col0\" class=\"data row1 col0\" >22</td>\n",
       "                        <td id=\"T_fb6a6298_1b14_11eb_97aa_38f9d358cccarow1_col1\" class=\"data row1 col1\" >3.82</td>\n",
       "            </tr>\n",
       "            <tr>\n",
       "                        <th id=\"T_fb6a6298_1b14_11eb_97aa_38f9d358cccalevel0_row2\" class=\"row_heading level0 row2\" >15-19</th>\n",
       "                        <td id=\"T_fb6a6298_1b14_11eb_97aa_38f9d358cccarow2_col0\" class=\"data row2 col0\" >107</td>\n",
       "                        <td id=\"T_fb6a6298_1b14_11eb_97aa_38f9d358cccarow2_col1\" class=\"data row2 col1\" >18.58</td>\n",
       "            </tr>\n",
       "            <tr>\n",
       "                        <th id=\"T_fb6a6298_1b14_11eb_97aa_38f9d358cccalevel0_row3\" class=\"row_heading level0 row3\" >20-24</th>\n",
       "                        <td id=\"T_fb6a6298_1b14_11eb_97aa_38f9d358cccarow3_col0\" class=\"data row3 col0\" >258</td>\n",
       "                        <td id=\"T_fb6a6298_1b14_11eb_97aa_38f9d358cccarow3_col1\" class=\"data row3 col1\" >44.79</td>\n",
       "            </tr>\n",
       "            <tr>\n",
       "                        <th id=\"T_fb6a6298_1b14_11eb_97aa_38f9d358cccalevel0_row4\" class=\"row_heading level0 row4\" >25-29</th>\n",
       "                        <td id=\"T_fb6a6298_1b14_11eb_97aa_38f9d358cccarow4_col0\" class=\"data row4 col0\" >77</td>\n",
       "                        <td id=\"T_fb6a6298_1b14_11eb_97aa_38f9d358cccarow4_col1\" class=\"data row4 col1\" >13.37</td>\n",
       "            </tr>\n",
       "            <tr>\n",
       "                        <th id=\"T_fb6a6298_1b14_11eb_97aa_38f9d358cccalevel0_row5\" class=\"row_heading level0 row5\" >30-34</th>\n",
       "                        <td id=\"T_fb6a6298_1b14_11eb_97aa_38f9d358cccarow5_col0\" class=\"data row5 col0\" >52</td>\n",
       "                        <td id=\"T_fb6a6298_1b14_11eb_97aa_38f9d358cccarow5_col1\" class=\"data row5 col1\" >9.03</td>\n",
       "            </tr>\n",
       "            <tr>\n",
       "                        <th id=\"T_fb6a6298_1b14_11eb_97aa_38f9d358cccalevel0_row6\" class=\"row_heading level0 row6\" >35-39</th>\n",
       "                        <td id=\"T_fb6a6298_1b14_11eb_97aa_38f9d358cccarow6_col0\" class=\"data row6 col0\" >31</td>\n",
       "                        <td id=\"T_fb6a6298_1b14_11eb_97aa_38f9d358cccarow6_col1\" class=\"data row6 col1\" >5.38</td>\n",
       "            </tr>\n",
       "            <tr>\n",
       "                        <th id=\"T_fb6a6298_1b14_11eb_97aa_38f9d358cccalevel0_row7\" class=\"row_heading level0 row7\" >40+</th>\n",
       "                        <td id=\"T_fb6a6298_1b14_11eb_97aa_38f9d358cccarow7_col0\" class=\"data row7 col0\" >12</td>\n",
       "                        <td id=\"T_fb6a6298_1b14_11eb_97aa_38f9d358cccarow7_col1\" class=\"data row7 col1\" >2.08</td>\n",
       "            </tr>\n",
       "    </tbody></table>"
      ],
      "text/plain": [
       "<pandas.io.formats.style.Styler at 0x7f80ade38340>"
      ]
     },
     "execution_count": 17,
     "metadata": {},
     "output_type": "execute_result"
    }
   ],
   "source": [
    "import pandas as pd\n",
    "\n",
    "file_to_upload = \"Resources/purchase_data.csv\"\n",
    "\n",
    "df = pd.read_csv(file_to_upload)\n",
    "\n",
    "\n",
    "bins=[0,9,14,19,24,29,34,39,60]\n",
    "bins_age=[\"<10\",\"10-14\",\"15-19\",\"20-24\",\"25-29\",\"30-34\",\"35-39\",\"40+\"]\n",
    "\n",
    "purchase_data[\"Age Group\"]=pd.cut(purchase_data[\"Age\"],bins, labels=bins_age)\n",
    "purchase_data\n",
    "\n",
    "age_data= purchase_data.groupby(\"Age Group\")\n",
    "total_count_age = age_data[\"SN\"].nunique()\n",
    "\n",
    "#percents\n",
    "percent_age= (total_count_age/total_players)*100\n",
    "age_demo=pd.DataFrame({\"Total Count\":total_count_age,\"Percent of Players\":percent_age})\n",
    "age_demo.index.name= None\n",
    "age_demo.style.format({\"Percent of Players\":\"{:,.2f}\"})\n",
    "                       \n",
    "     \n"
   ]
  },
  {
   "cell_type": "markdown",
   "metadata": {},
   "source": [
    "## Purchasing Analysis (Age)"
   ]
  },
  {
   "cell_type": "markdown",
   "metadata": {},
   "source": [
    "* Bin the purchase_data data frame by age\n",
    "\n",
    "\n",
    "* Run basic calculations to obtain purchase count, avg. purchase price, avg. purchase total per person etc. in the table below\n",
    "\n",
    "\n",
    "* Create a summary data frame to hold the results\n",
    "\n",
    "\n",
    "* Optional: give the displayed data cleaner formatting\n",
    "\n",
    "\n",
    "* Display the summary data frame"
   ]
  },
  {
   "cell_type": "code",
   "execution_count": 18,
   "metadata": {},
   "outputs": [
    {
     "data": {
      "text/html": [
       "<style  type=\"text/css\" >\n",
       "</style><table id=\"T_006314de_1b15_11eb_97aa_38f9d358ccca\" ><thead>    <tr>        <th class=\"blank level0\" ></th>        <th class=\"col_heading level0 col0\" >Purchase Count</th>        <th class=\"col_heading level0 col1\" >Average Purchase Price</th>        <th class=\"col_heading level0 col2\" >Total Purchase Value</th>        <th class=\"col_heading level0 col3\" >Avg Total Purchase per Person</th>    </tr>    <tr>        <th class=\"index_name level0\" >Age Ranges</th>        <th class=\"blank\" ></th>        <th class=\"blank\" ></th>        <th class=\"blank\" ></th>        <th class=\"blank\" ></th>    </tr></thead><tbody>\n",
       "                <tr>\n",
       "                        <th id=\"T_006314de_1b15_11eb_97aa_38f9d358cccalevel0_row0\" class=\"row_heading level0 row0\" ><10</th>\n",
       "                        <td id=\"T_006314de_1b15_11eb_97aa_38f9d358cccarow0_col0\" class=\"data row0 col0\" >23</td>\n",
       "                        <td id=\"T_006314de_1b15_11eb_97aa_38f9d358cccarow0_col1\" class=\"data row0 col1\" >$3.35</td>\n",
       "                        <td id=\"T_006314de_1b15_11eb_97aa_38f9d358cccarow0_col2\" class=\"data row0 col2\" >$77.13</td>\n",
       "                        <td id=\"T_006314de_1b15_11eb_97aa_38f9d358cccarow0_col3\" class=\"data row0 col3\" >$4.54</td>\n",
       "            </tr>\n",
       "            <tr>\n",
       "                        <th id=\"T_006314de_1b15_11eb_97aa_38f9d358cccalevel0_row1\" class=\"row_heading level0 row1\" >10-14</th>\n",
       "                        <td id=\"T_006314de_1b15_11eb_97aa_38f9d358cccarow1_col0\" class=\"data row1 col0\" >28</td>\n",
       "                        <td id=\"T_006314de_1b15_11eb_97aa_38f9d358cccarow1_col1\" class=\"data row1 col1\" >$2.96</td>\n",
       "                        <td id=\"T_006314de_1b15_11eb_97aa_38f9d358cccarow1_col2\" class=\"data row1 col2\" >$82.78</td>\n",
       "                        <td id=\"T_006314de_1b15_11eb_97aa_38f9d358cccarow1_col3\" class=\"data row1 col3\" >$3.76</td>\n",
       "            </tr>\n",
       "            <tr>\n",
       "                        <th id=\"T_006314de_1b15_11eb_97aa_38f9d358cccalevel0_row2\" class=\"row_heading level0 row2\" >15-19</th>\n",
       "                        <td id=\"T_006314de_1b15_11eb_97aa_38f9d358cccarow2_col0\" class=\"data row2 col0\" >136</td>\n",
       "                        <td id=\"T_006314de_1b15_11eb_97aa_38f9d358cccarow2_col1\" class=\"data row2 col1\" >$3.04</td>\n",
       "                        <td id=\"T_006314de_1b15_11eb_97aa_38f9d358cccarow2_col2\" class=\"data row2 col2\" >$412.89</td>\n",
       "                        <td id=\"T_006314de_1b15_11eb_97aa_38f9d358cccarow2_col3\" class=\"data row2 col3\" >$3.86</td>\n",
       "            </tr>\n",
       "            <tr>\n",
       "                        <th id=\"T_006314de_1b15_11eb_97aa_38f9d358cccalevel0_row3\" class=\"row_heading level0 row3\" >20-24</th>\n",
       "                        <td id=\"T_006314de_1b15_11eb_97aa_38f9d358cccarow3_col0\" class=\"data row3 col0\" >365</td>\n",
       "                        <td id=\"T_006314de_1b15_11eb_97aa_38f9d358cccarow3_col1\" class=\"data row3 col1\" >$3.05</td>\n",
       "                        <td id=\"T_006314de_1b15_11eb_97aa_38f9d358cccarow3_col2\" class=\"data row3 col2\" >$1,114.06</td>\n",
       "                        <td id=\"T_006314de_1b15_11eb_97aa_38f9d358cccarow3_col3\" class=\"data row3 col3\" >$4.32</td>\n",
       "            </tr>\n",
       "            <tr>\n",
       "                        <th id=\"T_006314de_1b15_11eb_97aa_38f9d358cccalevel0_row4\" class=\"row_heading level0 row4\" >25-29</th>\n",
       "                        <td id=\"T_006314de_1b15_11eb_97aa_38f9d358cccarow4_col0\" class=\"data row4 col0\" >101</td>\n",
       "                        <td id=\"T_006314de_1b15_11eb_97aa_38f9d358cccarow4_col1\" class=\"data row4 col1\" >$2.90</td>\n",
       "                        <td id=\"T_006314de_1b15_11eb_97aa_38f9d358cccarow4_col2\" class=\"data row4 col2\" >$293.00</td>\n",
       "                        <td id=\"T_006314de_1b15_11eb_97aa_38f9d358cccarow4_col3\" class=\"data row4 col3\" >$3.81</td>\n",
       "            </tr>\n",
       "            <tr>\n",
       "                        <th id=\"T_006314de_1b15_11eb_97aa_38f9d358cccalevel0_row5\" class=\"row_heading level0 row5\" >30-34</th>\n",
       "                        <td id=\"T_006314de_1b15_11eb_97aa_38f9d358cccarow5_col0\" class=\"data row5 col0\" >73</td>\n",
       "                        <td id=\"T_006314de_1b15_11eb_97aa_38f9d358cccarow5_col1\" class=\"data row5 col1\" >$2.93</td>\n",
       "                        <td id=\"T_006314de_1b15_11eb_97aa_38f9d358cccarow5_col2\" class=\"data row5 col2\" >$214.00</td>\n",
       "                        <td id=\"T_006314de_1b15_11eb_97aa_38f9d358cccarow5_col3\" class=\"data row5 col3\" >$4.12</td>\n",
       "            </tr>\n",
       "            <tr>\n",
       "                        <th id=\"T_006314de_1b15_11eb_97aa_38f9d358cccalevel0_row6\" class=\"row_heading level0 row6\" >35-39</th>\n",
       "                        <td id=\"T_006314de_1b15_11eb_97aa_38f9d358cccarow6_col0\" class=\"data row6 col0\" >41</td>\n",
       "                        <td id=\"T_006314de_1b15_11eb_97aa_38f9d358cccarow6_col1\" class=\"data row6 col1\" >$3.60</td>\n",
       "                        <td id=\"T_006314de_1b15_11eb_97aa_38f9d358cccarow6_col2\" class=\"data row6 col2\" >$147.67</td>\n",
       "                        <td id=\"T_006314de_1b15_11eb_97aa_38f9d358cccarow6_col3\" class=\"data row6 col3\" >$4.76</td>\n",
       "            </tr>\n",
       "            <tr>\n",
       "                        <th id=\"T_006314de_1b15_11eb_97aa_38f9d358cccalevel0_row7\" class=\"row_heading level0 row7\" >40+</th>\n",
       "                        <td id=\"T_006314de_1b15_11eb_97aa_38f9d358cccarow7_col0\" class=\"data row7 col0\" >13</td>\n",
       "                        <td id=\"T_006314de_1b15_11eb_97aa_38f9d358cccarow7_col1\" class=\"data row7 col1\" >$2.94</td>\n",
       "                        <td id=\"T_006314de_1b15_11eb_97aa_38f9d358cccarow7_col2\" class=\"data row7 col2\" >$38.24</td>\n",
       "                        <td id=\"T_006314de_1b15_11eb_97aa_38f9d358cccarow7_col3\" class=\"data row7 col3\" >$3.19</td>\n",
       "            </tr>\n",
       "    </tbody></table>"
      ],
      "text/plain": [
       "<pandas.io.formats.style.Styler at 0x7f80ade3c610>"
      ]
     },
     "execution_count": 18,
     "metadata": {},
     "output_type": "execute_result"
    }
   ],
   "source": [
    "bins=[0,9,14,19,24,29,34,39,60]\n",
    "bins_age=[\"<10\",\"10-14\",\"15-19\",\"20-24\",\"25-29\",\"30-34\",\"35-39\",\"40+\"]\n",
    "\n",
    "purchase_count= age_data[\"Purchase ID\"].count()\n",
    "avg_price=age_data[\"Price\"].mean()\n",
    "avg_total=age_data[\"Price\"].sum()\n",
    "\n",
    "age_data= purchase_data.groupby(\"Age Group\")\n",
    "\n",
    "\n",
    "\n",
    "avg_purchase= (avg_total/total_count_age)\n",
    "\n",
    "age_demo= pd.DataFrame({\"Purchase Count\":purchase_count,\"Average Purchase Price\":avg_price,\"Total Purchase Value\":avg_total,\"Avg Total Purchase per Person\":avg_purchase})\n",
    "age_demo.index.name= \"Age Ranges\"\n",
    "\n",
    "\n",
    "total_p= age_demo.sort_values([\"Avg Total Purchase per Person\"], ascending=False).head()\n",
    "\n",
    "age_demo.style.format({\"Average Purchase Price\":\"${:,.2f}\",\n",
    "                                  \"Total Purchase Value\":\"${:,.2f}\",\n",
    "                                  \"Avg Total Purchase per Person\":\"${:,.2f}\"})\n"
   ]
  },
  {
   "cell_type": "markdown",
   "metadata": {},
   "source": [
    "## Top Spenders"
   ]
  },
  {
   "cell_type": "markdown",
   "metadata": {},
   "source": [
    "* Run basic calculations to obtain the results in the table below\n",
    "\n",
    "\n",
    "* Create a summary data frame to hold the results\n",
    "\n",
    "\n",
    "* Sort the total purchase value column in descending order\n",
    "\n",
    "\n",
    "* Optional: give the displayed data cleaner formatting\n",
    "\n",
    "\n",
    "* Display a preview of the summary data frame\n",
    "\n"
   ]
  },
  {
   "cell_type": "code",
   "execution_count": 19,
   "metadata": {},
   "outputs": [
    {
     "data": {
      "text/html": [
       "<style  type=\"text/css\" >\n",
       "</style><table id=\"T_094348d0_1b15_11eb_97aa_38f9d358ccca\" ><thead>    <tr>        <th class=\"blank level0\" ></th>        <th class=\"col_heading level0 col0\" >Purchase Count</th>        <th class=\"col_heading level0 col1\" >Average Purchase Price</th>        <th class=\"col_heading level0 col2\" >Total Purchase Value</th>    </tr>    <tr>        <th class=\"index_name level0\" >SN</th>        <th class=\"blank\" ></th>        <th class=\"blank\" ></th>        <th class=\"blank\" ></th>    </tr></thead><tbody>\n",
       "                <tr>\n",
       "                        <th id=\"T_094348d0_1b15_11eb_97aa_38f9d358cccalevel0_row0\" class=\"row_heading level0 row0\" >Lisosia93</th>\n",
       "                        <td id=\"T_094348d0_1b15_11eb_97aa_38f9d358cccarow0_col0\" class=\"data row0 col0\" >5</td>\n",
       "                        <td id=\"T_094348d0_1b15_11eb_97aa_38f9d358cccarow0_col1\" class=\"data row0 col1\" >$3.79</td>\n",
       "                        <td id=\"T_094348d0_1b15_11eb_97aa_38f9d358cccarow0_col2\" class=\"data row0 col2\" >$18.96</td>\n",
       "            </tr>\n",
       "            <tr>\n",
       "                        <th id=\"T_094348d0_1b15_11eb_97aa_38f9d358cccalevel0_row1\" class=\"row_heading level0 row1\" >Idastidru52</th>\n",
       "                        <td id=\"T_094348d0_1b15_11eb_97aa_38f9d358cccarow1_col0\" class=\"data row1 col0\" >4</td>\n",
       "                        <td id=\"T_094348d0_1b15_11eb_97aa_38f9d358cccarow1_col1\" class=\"data row1 col1\" >$3.86</td>\n",
       "                        <td id=\"T_094348d0_1b15_11eb_97aa_38f9d358cccarow1_col2\" class=\"data row1 col2\" >$15.45</td>\n",
       "            </tr>\n",
       "            <tr>\n",
       "                        <th id=\"T_094348d0_1b15_11eb_97aa_38f9d358cccalevel0_row2\" class=\"row_heading level0 row2\" >Chamjask73</th>\n",
       "                        <td id=\"T_094348d0_1b15_11eb_97aa_38f9d358cccarow2_col0\" class=\"data row2 col0\" >3</td>\n",
       "                        <td id=\"T_094348d0_1b15_11eb_97aa_38f9d358cccarow2_col1\" class=\"data row2 col1\" >$4.61</td>\n",
       "                        <td id=\"T_094348d0_1b15_11eb_97aa_38f9d358cccarow2_col2\" class=\"data row2 col2\" >$13.83</td>\n",
       "            </tr>\n",
       "            <tr>\n",
       "                        <th id=\"T_094348d0_1b15_11eb_97aa_38f9d358cccalevel0_row3\" class=\"row_heading level0 row3\" >Iral74</th>\n",
       "                        <td id=\"T_094348d0_1b15_11eb_97aa_38f9d358cccarow3_col0\" class=\"data row3 col0\" >4</td>\n",
       "                        <td id=\"T_094348d0_1b15_11eb_97aa_38f9d358cccarow3_col1\" class=\"data row3 col1\" >$3.40</td>\n",
       "                        <td id=\"T_094348d0_1b15_11eb_97aa_38f9d358cccarow3_col2\" class=\"data row3 col2\" >$13.62</td>\n",
       "            </tr>\n",
       "            <tr>\n",
       "                        <th id=\"T_094348d0_1b15_11eb_97aa_38f9d358cccalevel0_row4\" class=\"row_heading level0 row4\" >Iskadarya95</th>\n",
       "                        <td id=\"T_094348d0_1b15_11eb_97aa_38f9d358cccarow4_col0\" class=\"data row4 col0\" >3</td>\n",
       "                        <td id=\"T_094348d0_1b15_11eb_97aa_38f9d358cccarow4_col1\" class=\"data row4 col1\" >$4.37</td>\n",
       "                        <td id=\"T_094348d0_1b15_11eb_97aa_38f9d358cccarow4_col2\" class=\"data row4 col2\" >$13.10</td>\n",
       "            </tr>\n",
       "    </tbody></table>"
      ],
      "text/plain": [
       "<pandas.io.formats.style.Styler at 0x7f80ade4a070>"
      ]
     },
     "execution_count": 19,
     "metadata": {},
     "output_type": "execute_result"
    }
   ],
   "source": [
    "file_to_load = \"Resources/purchase_data.csv\"\n",
    "\n",
    "purchase_data = pd.read_csv(file_to_load)\n",
    "\n",
    "spender_data=purchase_data.groupby(\"SN\")\n",
    "purchase_spender = spender_data[\"Purchase ID\"].count()\n",
    "avg_purchase_price = spender_data[\"Price\"].mean()\n",
    "spender_total = spender_data[\"Price\"].sum()\n",
    "\n",
    "high_spenders=pd.DataFrame({\"Purchase Count\": purchase_spender,\n",
    "                             \"Average Purchase Price\": avg_purchase_price,\n",
    "                             \"Total Purchase Value\":spender_total})\n",
    "\n",
    "spenders_f= high_spenders.sort_values([\"Total Purchase Value\"], ascending=False).head()\n",
    "spenders_f.style.format({\"Average Purchase Total\":\"${:,.2f}\",\n",
    "                                 \"Average Purchase Price\":\"${:,.2f}\", \n",
    "                                 \"Total Purchase Value\":\"${:,.2f}\"})"
   ]
  },
  {
   "cell_type": "markdown",
   "metadata": {},
   "source": [
    "## Most Popular Items"
   ]
  },
  {
   "cell_type": "markdown",
   "metadata": {},
   "source": [
    "* Retrieve the Item ID, Item Name, and Item Price columns\n",
    "\n",
    "\n",
    "* Group by Item ID and Item Name. Perform calculations to obtain purchase count, average item price, and total purchase value\n",
    "\n",
    "\n",
    "* Create a summary data frame to hold the results\n",
    "\n",
    "\n",
    "* Sort the purchase count column in descending order\n",
    "\n",
    "\n",
    "* Optional: give the displayed data cleaner formatting\n",
    "\n",
    "\n",
    "* Display a preview of the summary data frame\n",
    "\n"
   ]
  },
  {
   "cell_type": "code",
   "execution_count": 20,
   "metadata": {},
   "outputs": [
    {
     "data": {
      "text/html": [
       "<style  type=\"text/css\" >\n",
       "</style><table id=\"T_0ced2b2c_1b15_11eb_97aa_38f9d358ccca\" ><thead>    <tr>        <th class=\"blank\" ></th>        <th class=\"blank level0\" ></th>        <th class=\"col_heading level0 col0\" >Purchase Count</th>        <th class=\"col_heading level0 col1\" >Item Price</th>        <th class=\"col_heading level0 col2\" >Total Purchase Value</th>    </tr>    <tr>        <th class=\"index_name level0\" >Item ID</th>        <th class=\"index_name level1\" >Item Name</th>        <th class=\"blank\" ></th>        <th class=\"blank\" ></th>        <th class=\"blank\" ></th>    </tr></thead><tbody>\n",
       "                <tr>\n",
       "                        <th id=\"T_0ced2b2c_1b15_11eb_97aa_38f9d358cccalevel0_row0\" class=\"row_heading level0 row0\" >92</th>\n",
       "                        <th id=\"T_0ced2b2c_1b15_11eb_97aa_38f9d358cccalevel1_row0\" class=\"row_heading level1 row0\" >Final Critic</th>\n",
       "                        <td id=\"T_0ced2b2c_1b15_11eb_97aa_38f9d358cccarow0_col0\" class=\"data row0 col0\" >13</td>\n",
       "                        <td id=\"T_0ced2b2c_1b15_11eb_97aa_38f9d358cccarow0_col1\" class=\"data row0 col1\" >$4.61</td>\n",
       "                        <td id=\"T_0ced2b2c_1b15_11eb_97aa_38f9d358cccarow0_col2\" class=\"data row0 col2\" >$59.99</td>\n",
       "            </tr>\n",
       "            <tr>\n",
       "                        <th id=\"T_0ced2b2c_1b15_11eb_97aa_38f9d358cccalevel0_row1\" class=\"row_heading level0 row1\" >178</th>\n",
       "                        <th id=\"T_0ced2b2c_1b15_11eb_97aa_38f9d358cccalevel1_row1\" class=\"row_heading level1 row1\" >Oathbreaker, Last Hope of the Breaking Storm</th>\n",
       "                        <td id=\"T_0ced2b2c_1b15_11eb_97aa_38f9d358cccarow1_col0\" class=\"data row1 col0\" >12</td>\n",
       "                        <td id=\"T_0ced2b2c_1b15_11eb_97aa_38f9d358cccarow1_col1\" class=\"data row1 col1\" >$4.23</td>\n",
       "                        <td id=\"T_0ced2b2c_1b15_11eb_97aa_38f9d358cccarow1_col2\" class=\"data row1 col2\" >$50.76</td>\n",
       "            </tr>\n",
       "            <tr>\n",
       "                        <th id=\"T_0ced2b2c_1b15_11eb_97aa_38f9d358cccalevel0_row2\" class=\"row_heading level0 row2\" >145</th>\n",
       "                        <th id=\"T_0ced2b2c_1b15_11eb_97aa_38f9d358cccalevel1_row2\" class=\"row_heading level1 row2\" >Fiery Glass Crusader</th>\n",
       "                        <td id=\"T_0ced2b2c_1b15_11eb_97aa_38f9d358cccarow2_col0\" class=\"data row2 col0\" >9</td>\n",
       "                        <td id=\"T_0ced2b2c_1b15_11eb_97aa_38f9d358cccarow2_col1\" class=\"data row2 col1\" >$4.58</td>\n",
       "                        <td id=\"T_0ced2b2c_1b15_11eb_97aa_38f9d358cccarow2_col2\" class=\"data row2 col2\" >$41.22</td>\n",
       "            </tr>\n",
       "            <tr>\n",
       "                        <th id=\"T_0ced2b2c_1b15_11eb_97aa_38f9d358cccalevel0_row3\" class=\"row_heading level0 row3\" >132</th>\n",
       "                        <th id=\"T_0ced2b2c_1b15_11eb_97aa_38f9d358cccalevel1_row3\" class=\"row_heading level1 row3\" >Persuasion</th>\n",
       "                        <td id=\"T_0ced2b2c_1b15_11eb_97aa_38f9d358cccarow3_col0\" class=\"data row3 col0\" >9</td>\n",
       "                        <td id=\"T_0ced2b2c_1b15_11eb_97aa_38f9d358cccarow3_col1\" class=\"data row3 col1\" >$3.22</td>\n",
       "                        <td id=\"T_0ced2b2c_1b15_11eb_97aa_38f9d358cccarow3_col2\" class=\"data row3 col2\" >$28.99</td>\n",
       "            </tr>\n",
       "            <tr>\n",
       "                        <th id=\"T_0ced2b2c_1b15_11eb_97aa_38f9d358cccalevel0_row4\" class=\"row_heading level0 row4\" >108</th>\n",
       "                        <th id=\"T_0ced2b2c_1b15_11eb_97aa_38f9d358cccalevel1_row4\" class=\"row_heading level1 row4\" >Extraction, Quickblade Of Trembling Hands</th>\n",
       "                        <td id=\"T_0ced2b2c_1b15_11eb_97aa_38f9d358cccarow4_col0\" class=\"data row4 col0\" >9</td>\n",
       "                        <td id=\"T_0ced2b2c_1b15_11eb_97aa_38f9d358cccarow4_col1\" class=\"data row4 col1\" >$3.53</td>\n",
       "                        <td id=\"T_0ced2b2c_1b15_11eb_97aa_38f9d358cccarow4_col2\" class=\"data row4 col2\" >$31.77</td>\n",
       "            </tr>\n",
       "    </tbody></table>"
      ],
      "text/plain": [
       "<pandas.io.formats.style.Styler at 0x7f80ac9d75e0>"
      ]
     },
     "execution_count": 20,
     "metadata": {},
     "output_type": "execute_result"
    }
   ],
   "source": [
    "import pandas as pd\n",
    "file_to_load = \"Resources/purchase_data.csv\"\n",
    "\n",
    "purchase_data = pd.read_csv(file_to_load)\n",
    "\n",
    "items = purchase_data[[\"Item ID\", \"Item Name\", \"Price\"]]\n",
    "\n",
    "item_stats = items.groupby([\"Item ID\",\"Item Name\"])\n",
    "\n",
    "#count\n",
    "purchase_count = item_stats[\"Price\"].count()\n",
    "#total\n",
    "purchase_value = (item_stats[\"Price\"].sum()) \n",
    "\n",
    "item_price = purchase_value/purchase_count\n",
    "\n",
    "most_popular_items = pd.DataFrame({\"Purchase Count\": purchase_count, \n",
    "                                   \"Item Price\": item_price,\n",
    "                                   \"Total Purchase Value\":purchase_value})\n",
    "\n",
    "popular_f = most_popular_items.sort_values([\"Purchase Count\"], ascending=False).head()\n",
    "#rounding dollar\n",
    "popular_f.style.format({\"Item Price\":\"${:,.2f}\",\n",
    "                                \"Total Purchase Value\":\"${:,.2f}\"})"
   ]
  },
  {
   "cell_type": "markdown",
   "metadata": {},
   "source": [
    "Most Profitable Items"
   ]
  },
  {
   "cell_type": "markdown",
   "metadata": {},
   "source": [
    "* Sort the above table by total purchase value in descending order\n",
    "\n",
    "\n",
    "* Optional: give the displayed data cleaner formatting\n",
    "\n",
    "\n",
    "* Display a preview of the data frame\n",
    "\n"
   ]
  },
  {
   "cell_type": "code",
   "execution_count": 21,
   "metadata": {},
   "outputs": [
    {
     "data": {
      "text/html": [
       "<style  type=\"text/css\" >\n",
       "</style><table id=\"T_0e3686d6_1b15_11eb_97aa_38f9d358ccca\" ><thead>    <tr>        <th class=\"blank\" ></th>        <th class=\"blank level0\" ></th>        <th class=\"col_heading level0 col0\" >Purchase Count</th>        <th class=\"col_heading level0 col1\" >Item Price</th>        <th class=\"col_heading level0 col2\" >Total Purchase Value</th>    </tr>    <tr>        <th class=\"index_name level0\" >Item ID</th>        <th class=\"index_name level1\" >Item Name</th>        <th class=\"blank\" ></th>        <th class=\"blank\" ></th>        <th class=\"blank\" ></th>    </tr></thead><tbody>\n",
       "                <tr>\n",
       "                        <th id=\"T_0e3686d6_1b15_11eb_97aa_38f9d358cccalevel0_row0\" class=\"row_heading level0 row0\" >92</th>\n",
       "                        <th id=\"T_0e3686d6_1b15_11eb_97aa_38f9d358cccalevel1_row0\" class=\"row_heading level1 row0\" >Final Critic</th>\n",
       "                        <td id=\"T_0e3686d6_1b15_11eb_97aa_38f9d358cccarow0_col0\" class=\"data row0 col0\" >13</td>\n",
       "                        <td id=\"T_0e3686d6_1b15_11eb_97aa_38f9d358cccarow0_col1\" class=\"data row0 col1\" >$4.61</td>\n",
       "                        <td id=\"T_0e3686d6_1b15_11eb_97aa_38f9d358cccarow0_col2\" class=\"data row0 col2\" >$59.99</td>\n",
       "            </tr>\n",
       "            <tr>\n",
       "                        <th id=\"T_0e3686d6_1b15_11eb_97aa_38f9d358cccalevel0_row1\" class=\"row_heading level0 row1\" >178</th>\n",
       "                        <th id=\"T_0e3686d6_1b15_11eb_97aa_38f9d358cccalevel1_row1\" class=\"row_heading level1 row1\" >Oathbreaker, Last Hope of the Breaking Storm</th>\n",
       "                        <td id=\"T_0e3686d6_1b15_11eb_97aa_38f9d358cccarow1_col0\" class=\"data row1 col0\" >12</td>\n",
       "                        <td id=\"T_0e3686d6_1b15_11eb_97aa_38f9d358cccarow1_col1\" class=\"data row1 col1\" >$4.23</td>\n",
       "                        <td id=\"T_0e3686d6_1b15_11eb_97aa_38f9d358cccarow1_col2\" class=\"data row1 col2\" >$50.76</td>\n",
       "            </tr>\n",
       "            <tr>\n",
       "                        <th id=\"T_0e3686d6_1b15_11eb_97aa_38f9d358cccalevel0_row2\" class=\"row_heading level0 row2\" >145</th>\n",
       "                        <th id=\"T_0e3686d6_1b15_11eb_97aa_38f9d358cccalevel1_row2\" class=\"row_heading level1 row2\" >Fiery Glass Crusader</th>\n",
       "                        <td id=\"T_0e3686d6_1b15_11eb_97aa_38f9d358cccarow2_col0\" class=\"data row2 col0\" >9</td>\n",
       "                        <td id=\"T_0e3686d6_1b15_11eb_97aa_38f9d358cccarow2_col1\" class=\"data row2 col1\" >$4.58</td>\n",
       "                        <td id=\"T_0e3686d6_1b15_11eb_97aa_38f9d358cccarow2_col2\" class=\"data row2 col2\" >$41.22</td>\n",
       "            </tr>\n",
       "            <tr>\n",
       "                        <th id=\"T_0e3686d6_1b15_11eb_97aa_38f9d358cccalevel0_row3\" class=\"row_heading level0 row3\" >132</th>\n",
       "                        <th id=\"T_0e3686d6_1b15_11eb_97aa_38f9d358cccalevel1_row3\" class=\"row_heading level1 row3\" >Persuasion</th>\n",
       "                        <td id=\"T_0e3686d6_1b15_11eb_97aa_38f9d358cccarow3_col0\" class=\"data row3 col0\" >9</td>\n",
       "                        <td id=\"T_0e3686d6_1b15_11eb_97aa_38f9d358cccarow3_col1\" class=\"data row3 col1\" >$3.22</td>\n",
       "                        <td id=\"T_0e3686d6_1b15_11eb_97aa_38f9d358cccarow3_col2\" class=\"data row3 col2\" >$28.99</td>\n",
       "            </tr>\n",
       "            <tr>\n",
       "                        <th id=\"T_0e3686d6_1b15_11eb_97aa_38f9d358cccalevel0_row4\" class=\"row_heading level0 row4\" >108</th>\n",
       "                        <th id=\"T_0e3686d6_1b15_11eb_97aa_38f9d358cccalevel1_row4\" class=\"row_heading level1 row4\" >Extraction, Quickblade Of Trembling Hands</th>\n",
       "                        <td id=\"T_0e3686d6_1b15_11eb_97aa_38f9d358cccarow4_col0\" class=\"data row4 col0\" >9</td>\n",
       "                        <td id=\"T_0e3686d6_1b15_11eb_97aa_38f9d358cccarow4_col1\" class=\"data row4 col1\" >$3.53</td>\n",
       "                        <td id=\"T_0e3686d6_1b15_11eb_97aa_38f9d358cccarow4_col2\" class=\"data row4 col2\" >$31.77</td>\n",
       "            </tr>\n",
       "    </tbody></table>"
      ],
      "text/plain": [
       "<pandas.io.formats.style.Styler at 0x7f80ade4ab50>"
      ]
     },
     "execution_count": 21,
     "metadata": {},
     "output_type": "execute_result"
    }
   ],
   "source": [
    "most_popular_items.sort_values([\"Total Purchase Value\"], ascending=False).head()\n",
    "\n",
    "popular_f.style.format({\"Item Price\":\"${:,.2f}\",\n",
    "                                \"Total Purchase Value\":\"${:,.2f}\"})\n"
   ]
  },
  {
   "cell_type": "code",
   "execution_count": null,
   "metadata": {},
   "outputs": [],
   "source": []
  }
 ],
 "metadata": {
  "anaconda-cloud": {},
  "kernel_info": {
   "name": "python3"
  },
  "kernelspec": {
   "display_name": "Python 3",
   "language": "python",
   "name": "python3"
  },
  "language_info": {
   "codemirror_mode": {
    "name": "ipython",
    "version": 3
   },
   "file_extension": ".py",
   "mimetype": "text/x-python",
   "name": "python",
   "nbconvert_exporter": "python",
   "pygments_lexer": "ipython3",
   "version": "3.8.3"
  },
  "latex_envs": {
   "LaTeX_envs_menu_present": true,
   "autoclose": false,
   "autocomplete": true,
   "bibliofile": "biblio.bib",
   "cite_by": "apalike",
   "current_citInitial": 1,
   "eqLabelWithNumbers": true,
   "eqNumInitial": 1,
   "hotkeys": {
    "equation": "Ctrl-E",
    "itemize": "Ctrl-I"
   },
   "labels_anchors": false,
   "latex_user_defs": false,
   "report_style_numbering": false,
   "user_envs_cfg": false
  },
  "nteract": {
   "version": "0.2.0"
  }
 },
 "nbformat": 4,
 "nbformat_minor": 2
}
